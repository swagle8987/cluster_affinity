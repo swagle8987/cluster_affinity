{
 "cells": [
  {
   "cell_type": "code",
   "execution_count": 1,
   "id": "527e15a8",
   "metadata": {},
   "outputs": [],
   "source": [
    "from extendedtree import ExtendedTree\n",
    "from affinity import tree_affinity"
   ]
  },
  {
   "cell_type": "code",
   "execution_count": 6,
   "id": "1ccdf135",
   "metadata": {},
   "outputs": [],
   "source": [
    "t1 = ExtendedTree.get(path=\"1.tre\",schema=\"newick\")\n",
    "t2 = ExtendedTree.get(path=\"2.tre\",schema=\"newick\")"
   ]
  },
  {
   "cell_type": "code",
   "execution_count": 7,
   "id": "530f8017",
   "metadata": {},
   "outputs": [
    {
     "data": {
      "text/plain": [
       "3"
      ]
     },
     "execution_count": 7,
     "metadata": {},
     "output_type": "execute_result"
    }
   ],
   "source": [
    "tree_affinity(t2,t1)"
   ]
  },
  {
   "cell_type": "code",
   "execution_count": 8,
   "id": "9e1cf9c7",
   "metadata": {},
   "outputs": [
    {
     "name": "stdout",
     "output_type": "stream",
     "text": [
      "[&R] (A[&node_number=0,in_nodes= || 0 || 2],(B[&node_number=1,in_nodes= || 1 || 2],(C[&node_number=2,in_nodes= || 3 || 5],(D[&node_number=3,in_nodes= || 4 || 5],E[&node_number=4,in_nodes= || 7])5[&node_number=5])6[&node_number=6,in_nodes= || 5])7[&node_number=7])8[&node_number=8,in_nodes= || 6 || 8];\n",
      " (((A[&node_number=0,out_nodes=0,out_cost=0],B[&node_number=1,out_nodes=1,out_cost=0])2[&node_number=2,out_nodes=0 || 1,out_cost=1],(C[&node_number=3,out_nodes=2,out_cost=0],D[&node_number=4,out_nodes=3,out_cost=0])5[&node_number=5,out_nodes=2 || 3 || 6,out_cost=1])6[&node_number=6,out_nodes=8,out_cost=1],E[&node_number=7,out_nodes=4,out_cost=0])8[&node_number=8,out_nodes=8,out_cost=0];\n",
      "\n"
     ]
    }
   ],
   "source": [
    "print(t1.as_string(schema=\"newick\",suppress_internal_node_labels=False,suppress_annotations=False)\n",
    ",t2.as_string(schema=\"newick\",suppress_internal_node_labels=False,suppress_annotations=False))"
   ]
  },
  {
   "cell_type": "code",
   "execution_count": null,
   "id": "7112d887",
   "metadata": {},
   "outputs": [],
   "source": []
  }
 ],
 "metadata": {
  "kernelspec": {
   "display_name": "Python 3 (ipykernel)",
   "language": "python",
   "name": "python3"
  },
  "language_info": {
   "codemirror_mode": {
    "name": "ipython",
    "version": 3
   },
   "file_extension": ".py",
   "mimetype": "text/x-python",
   "name": "python",
   "nbconvert_exporter": "python",
   "pygments_lexer": "ipython3",
   "version": "3.8.10"
  }
 },
 "nbformat": 4,
 "nbformat_minor": 5
}
